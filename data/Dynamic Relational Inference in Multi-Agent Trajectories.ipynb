{
 "cells": [
  {
   "cell_type": "markdown",
   "metadata": {},
   "source": [
    "# Dynamic Relational Inference in Multi-Agent Trajectories"
   ]
  },
  {
   "cell_type": "markdown",
   "metadata": {},
   "source": [
    "## Introduction\n",
    "\n",
    "Causal Structure Discovery (CSD) is the problem of identifying causal relationships from large quantities of data through computational methods. Causal relations cannot be read directly from a data sample, they can only be inferred. Causal relations are of intrests because only an understanding of the underlying causal relations can support predictions about how a system will behave when it is subject to intervention. Causal discovery has wide range of applications from climate modeling, social dynamics to biological systems modeling. Time series data play an important roles in many scientfic inquiry. Changing climate patterns, fMRI data, social dynamics and many other domains hold time series data at its core. In time-series, the assumption that causes temporrally precede thier effect enable us to discover causal relations in observational data.\n",
    "\n",
    "In this article we will study the recent works done in causal discovery and implement a computational model to study and infer its behaviour. We will be first formally define the problem then explore methods of disovery."
   ]
  },
  {
   "cell_type": "markdown",
   "metadata": {},
   "source": [
    "## Background\n",
    "\n",
    "We will first formall define a causal graph $G$ which is described by variables $V$ and edges $E$.\n",
    "\n",
    "\n",
    "\n"
   ]
  },
  {
   "cell_type": "code",
   "execution_count": null,
   "metadata": {},
   "outputs": [],
   "source": []
  },
  {
   "cell_type": "code",
   "execution_count": null,
   "metadata": {},
   "outputs": [],
   "source": []
  },
  {
   "cell_type": "code",
   "execution_count": 40,
   "metadata": {},
   "outputs": [],
   "source": [
    "# Importing packages\n",
    "import pandas as pd\n",
    "import matplotlib.pyplot as plt\n",
    "import seaborn as sns\n",
    "import io\n",
    "import numpy as np"
   ]
  },
  {
   "cell_type": "markdown",
   "metadata": {},
   "source": [
    "# Exploratory Data Analysis"
   ]
  },
  {
   "cell_type": "markdown",
   "metadata": {},
   "source": [
    "First lets load all the data and split them into training and testing data set."
   ]
  },
  {
   "cell_type": "code",
   "execution_count": 43,
   "metadata": {},
   "outputs": [
    {
     "name": "stdout",
     "output_type": "stream",
     "text": [
      "40\n"
     ]
    }
   ],
   "source": [
    "data = pd.read_pickle('../data/samples/dyari.pkl')\n",
    "train = data.sample(frac=0.8, random_state=200)\n",
    "test = data.drop(train.index)\n",
    "print(len(train))"
   ]
  },
  {
   "cell_type": "code",
   "execution_count": 68,
   "metadata": {},
   "outputs": [
    {
     "name": "stdout",
     "output_type": "stream",
     "text": [
      "3\n",
      "             particle_0  particle_1\n",
      "x_cordinate    0.933779   -0.488639\n",
      "y_cordinate    0.475044   -0.075679\n",
      "             particle_0  particle_1\n",
      "x_cordinate    0.903944   -0.474342\n",
      "y_cordinate    0.515410   -0.027283\n"
     ]
    }
   ],
   "source": [
    "t = [0, 4, 5]\n",
    "simulation_samples = train.iloc[t]\n",
    "print(len(simulation_samples))\n",
    "t0_positions = simulation_samples.trajectories[0].positions\n",
    "t1_positions = simulation_samples.trajectories[1].positions\n",
    "t2_positions = simulation_samples.trajectories[2].positions\n",
    "print(t0_positions[0])\n",
    "print(t0_positions[1])"
   ]
  },
  {
   "cell_type": "code",
   "execution_count": 63,
   "metadata": {},
   "outputs": [
    {
     "name": "stdout",
     "output_type": "stream",
     "text": [
      "position of all particles at time step 0\n",
      "             particle_0  particle_1\n",
      "x_cordinate    0.933779   -0.488639\n",
      "y_cordinate    0.475044   -0.075679 \n",
      "\n",
      "velocity of all particles at time step 0\n",
      "             particle_0  particle_1\n",
      "x_cordinate   -0.291236    0.135858\n",
      "y_cordinate    0.406425    0.481189 \n",
      "\n",
      "causality matrix of all particles at time step 0\n",
      "            particle_0  particle_1\n",
      "particle_0         0.0         1.0\n",
      "particle_1         1.0         0.0\n"
     ]
    }
   ],
   "source": [
    "# Lets pick one simulatated trajectory and analyze it\n",
    "simulation_sample = train.iloc[0]\n",
    "\n",
    "# For this simulation sample, lets get all positions\n",
    "positions = simulation_sample.trajectories.positions\n",
    "velocities = simulation_sample.trajectories.velocity\n",
    "edges = simulation_sample.trajectories.edges\n",
    "\n",
    "# Lets inspect elements at time step 0\n",
    "print('position of all particles at time step 0')\n",
    "print(positions[0], '\\n')\n",
    "\n",
    "print('velocity of all particles at time step 0')\n",
    "print(velocities[0], '\\n')\n",
    "\n",
    "print('causality matrix of all particles at time step 0')\n",
    "print(edges[0])"
   ]
  },
  {
   "cell_type": "markdown",
   "metadata": {},
   "source": [
    "We can see that the dataframe have x and y coordinates for all particles. Similarly we can extract velocities, edges and energy for all praticles on this trajectory."
   ]
  },
  {
   "cell_type": "code",
   "execution_count": 64,
   "metadata": {},
   "outputs": [
    {
     "name": "stdout",
     "output_type": "stream",
     "text": [
      "              particle_0  particle_1\n",
      "x_cordinate     0.933779   -0.488639\n",
      "y_cordinate     0.475044   -0.075679\n",
      "x_cordinate    -0.291236    0.135858\n",
      "y_cordinate     0.406425    0.481189\n",
      "total_energy    0.241328    0.241328\n",
      "              particle_0  particle_1\n",
      "x_cordinate     0.903944   -0.474342\n",
      "y_cordinate     0.515410   -0.027283\n",
      "x_cordinate    -0.305244    0.149866\n",
      "y_cordinate     0.400957    0.486657\n",
      "total_energy    0.236680    0.239357\n",
      "              particle_0  particle_1\n",
      "x_cordinate     0.872731   -0.458667\n",
      "y_cordinate     0.555233    0.021655\n",
      "x_cordinate    -0.318797    0.163420\n",
      "y_cordinate     0.395574    0.492040\n",
      "total_energy    0.231922    0.237271\n",
      "              particle_0  particle_1\n",
      "x_cordinate     0.840188   -0.441661\n",
      "y_cordinate     0.594523    0.071127\n",
      "x_cordinate    -0.331868    0.176490\n",
      "y_cordinate     0.390288    0.497326\n",
      "total_energy    0.227084    0.235095\n",
      "[[[ 0.933779   -0.48863894]\n",
      "  [ 0.47504421 -0.0756786 ]\n",
      "  [-0.2912364   0.13585844]\n",
      "  [ 0.40642509  0.48118862]\n",
      "  [ 0.24132842  0.24132842]]\n",
      "\n",
      " [[ 0.90394427 -0.47434201]\n",
      "  [ 0.5154099  -0.02728292]\n",
      "  [-0.30524447  0.1498665 ]\n",
      "  [ 0.4009567   0.48665701]\n",
      "  [ 0.23667966  0.23935693]]\n",
      "\n",
      " [[ 0.87273149 -0.45866703]\n",
      "  [ 0.55523298  0.02165537]\n",
      "  [-0.31879749  0.16341953]\n",
      "  [ 0.395574    0.49203971]\n",
      "  [ 0.23192167  0.23727086]]\n",
      "\n",
      " [[ 0.84018753 -0.44166087]\n",
      "  [ 0.59452258  0.07112714]\n",
      "  [-0.33186838  0.17649042]\n",
      "  [ 0.39028774  0.49732597]\n",
      "  [ 0.22708448  0.2350949 ]]]\n"
     ]
    }
   ],
   "source": [
    "positions = simulation_sample.trajectories.positions\n",
    "velocities = simulation_sample.trajectories.velocity\n",
    "energy = simulation_sample.trajectories.total_energy\n",
    "\n",
    "batch = []\n",
    "for time_step in range(0, 4):\n",
    "    frames = [positions[time_step], velocities[time_step], energy[time_step]]\n",
    "    result = pd.concat(frames)\n",
    "    batch.append(result)\n",
    "    print(result)\n",
    "d = np.asarray(batch)\n",
    "print(d)"
   ]
  },
  {
   "cell_type": "markdown",
   "metadata": {},
   "source": [
    "For a trajectory sampled from train dataset lets plot the positions of all particles."
   ]
  },
  {
   "cell_type": "code",
   "execution_count": 7,
   "metadata": {},
   "outputs": [
    {
     "data": {
      "text/plain": [
       "(-5.0, 5.0)"
      ]
     },
     "execution_count": 7,
     "metadata": {},
     "output_type": "execute_result"
    },
    {
     "data": {
      "image/png": "[encoded data removed]",
      "text/plain": [
       "<Figure size 720x360 with 2 Axes>"
      ]
     },
     "metadata": {
      "needs_background": "light"
     },
     "output_type": "display_data"
    }
   ],
   "source": [
    "\n",
    "\n",
    "particle_positions = []\n",
    "for position in simulation_sample.trajectories.positions:\n",
    "    for particle_id in position.columns:\n",
    "        particle_positions.append({\n",
    "            'x_cordinate': position[particle_id]['x_cordinate'],\n",
    "            'y_cordinate': position[particle_id]['y_cordinate'],\n",
    "            'particle': particle_id\n",
    "        })\n",
    "position_dframe = pd.DataFrame(particle_positions)\n",
    "\n",
    "\n",
    "particle_velocity = []\n",
    "for position in simulation_sample.trajectories.velocity:\n",
    "    for particle_id in position.columns:\n",
    "        particle_velocity.append({\n",
    "            'x_cordinate': position[particle_id]['x_cordinate'],\n",
    "            'y_cordinate': position[particle_id]['y_cordinate'],\n",
    "            'particle': particle_id\n",
    "        })\n",
    "velocity_dframe = pd.DataFrame(particle_velocity)\n",
    "\n",
    "\n",
    "fig, axes = plt.subplots(1, 2, figsize=(10, 5), sharey=False, sharex=False)\n",
    "axes[0].set_title('Position')\n",
    "axes[1].set_title('Velocity')\n",
    "simulation_sample = train.iloc[0]\n",
    "pl = sns.scatterplot(data=position_dframe, x='x_cordinate', y='y_cordinate', hue='particle', ax=axes[0])\n",
    "sns.scatterplot(data=velocity_dframe, x='x_cordinate', y='y_cordinate', hue='particle', ax=axes[1])\n",
    "pl.set_ylim(-5.0, 5.0)\n",
    "pl.set_xlim(-5.0, 5.0)"
   ]
  },
  {
   "cell_type": "markdown",
   "metadata": {},
   "source": [
    "For the same sample trajectory lets plots its enegry graphs"
   ]
  },
  {
   "cell_type": "code",
   "execution_count": 10,
   "metadata": {},
   "outputs": [
    {
     "data": {
      "text/plain": [
       "<AxesSubplot:xlabel='time_step', ylabel='total_energy'>"
      ]
     },
     "execution_count": 10,
     "metadata": {},
     "output_type": "execute_result"
    },
    {
     "data": {
      "image/png": "[encoded data removed]",
      "text/plain": [
       "<Figure size 432x288 with 1 Axes>"
      ]
     },
     "metadata": {
      "needs_background": "light"
     },
     "output_type": "display_data"
    }
   ],
   "source": [
    "total_energy = []\n",
    "time_step = 0\n",
    "for position in simulation_sample.trajectories.total_energy:\n",
    "    for particle_id in position.columns:\n",
    "        total_energy.append({\n",
    "            'total_energy': position[particle_id]['total_energy'],\n",
    "            'particle': particle_id,\n",
    "            'time_step': time_step\n",
    "        })\n",
    "    time_step += 1\n",
    "energy_dframe = pd.DataFrame(total_energy)\n",
    "sns.scatterplot(data=energy_dframe, x='time_step', y='total_energy', hue='particle')"
   ]
  },
  {
   "cell_type": "code",
   "execution_count": 12,
   "metadata": {},
   "outputs": [
    {
     "name": "stdout",
     "output_type": "stream",
     "text": [
      "          t-1       t+1\n",
      "t-1  1.000000  0.995302\n",
      "t+1  0.995302  1.000000\n"
     ]
    },
    {
     "data": {
      "text/plain": [
       "<AxesSubplot:xlabel='y(t)', ylabel='y(t + 1)'>"
      ]
     },
     "execution_count": 12,
     "metadata": {},
     "output_type": "execute_result"
    },
    {
     "data": {
      "image/png": "[encoded data removed]",
      "text/plain": [
       "<Figure size 432x288 with 1 Axes>"
      ]
     },
     "metadata": {
      "needs_background": "light"
     },
     "output_type": "display_data"
    }
   ],
   "source": [
    "pos = energy_dframe.set_index('time_step')\n",
    "edf = pos[pos.particle=='particle_0'].total_energy\n",
    "_df = pd.concat([edf.shift(1), edf], axis=1)\n",
    "_df.columns = ['t-1', 't+1']\n",
    "result = _df.corr()\n",
    "print(result)\n",
    "from pandas.plotting import lag_plot\n",
    "lag_plot(edf)"
   ]
  },
  {
   "cell_type": "code",
   "execution_count": 13,
   "metadata": {},
   "outputs": [
    {
     "data": {
      "text/plain": [
       "<AxesSubplot:xlabel='Lag', ylabel='Autocorrelation'>"
      ]
     },
     "execution_count": 13,
     "metadata": {},
     "output_type": "execute_result"
    },
    {
     "data": {
      "image/png": "[encoded data removed]",
      "text/plain": [
       "<Figure size 432x288 with 1 Axes>"
      ]
     },
     "metadata": {
      "needs_background": "light"
     },
     "output_type": "display_data"
    }
   ],
   "source": [
    "from pandas.plotting import autocorrelation_plot\n",
    "autocorrelation_plot(edf)"
   ]
  },
  {
   "cell_type": "code",
   "execution_count": 14,
   "metadata": {},
   "outputs": [
    {
     "ename": "NameError",
     "evalue": "name 'dataframe' is not defined",
     "output_type": "error",
     "traceback": [
      "\u001b[0;31m---------------------------------------------------------------------------\u001b[0m",
      "\u001b[0;31mNameError\u001b[0m                                 Traceback (most recent call last)",
      "\u001b[0;32m<ipython-input-14-faacbaf53eff>\u001b[0m in \u001b[0;36m<module>\u001b[0;34m\u001b[0m\n\u001b[0;32m----> 1\u001b[0;31m \u001b[0mresult\u001b[0m \u001b[0;34m=\u001b[0m \u001b[0mdataframe\u001b[0m\u001b[0;34m.\u001b[0m\u001b[0mcorr\u001b[0m\u001b[0;34m(\u001b[0m\u001b[0;34m)\u001b[0m\u001b[0;34m\u001b[0m\u001b[0;34m\u001b[0m\u001b[0m\n\u001b[0m\u001b[1;32m      2\u001b[0m \u001b[0mprint\u001b[0m\u001b[0;34m(\u001b[0m\u001b[0mresult\u001b[0m\u001b[0;34m)\u001b[0m\u001b[0;34m\u001b[0m\u001b[0;34m\u001b[0m\u001b[0m\n",
      "\u001b[0;31mNameError\u001b[0m: name 'dataframe' is not defined"
     ]
    }
   ],
   "source": []
  },
  {
   "cell_type": "code",
   "execution_count": null,
   "metadata": {},
   "outputs": [],
   "source": []
  }
 ],
 "metadata": {
  "kernelspec": {
   "display_name": "Python 3",
   "language": "python",
   "name": "python3"
  },
  "language_info": {
   "codemirror_mode": {
    "name": "ipython",
    "version": 3
   },
   "file_extension": ".py",
   "mimetype": "text/x-python",
   "name": "python",
   "nbconvert_exporter": "python",
   "pygments_lexer": "ipython3",
   "version": "3.8.4"
  }
 },
 "nbformat": 4,
 "nbformat_minor": 4
}
